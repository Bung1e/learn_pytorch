{
 "cells": [
  {
   "cell_type": "code",
   "execution_count": 1,
   "metadata": {},
   "outputs": [],
   "source": [
    "import torch\n",
    "import numpy as np\n"
   ]
  },
  {
   "cell_type": "code",
   "execution_count": 2,
   "metadata": {},
   "outputs": [
    {
     "data": {
      "text/plain": [
       "torch.int64"
      ]
     },
     "execution_count": 2,
     "metadata": {},
     "output_type": "execute_result"
    }
   ],
   "source": [
    "t = torch.tensor([1, 2, 0])\n",
    "t.dtype"
   ]
  },
  {
   "cell_type": "code",
   "execution_count": 3,
   "metadata": {},
   "outputs": [
    {
     "data": {
      "text/plain": [
       "torch.Size([3, 2])"
      ]
     },
     "execution_count": 3,
     "metadata": {},
     "output_type": "execute_result"
    }
   ],
   "source": [
    "t = torch.tensor([[1, 2], [3, 4], [5, 6]], dtype=torch.float32)\n",
    "t.shape"
   ]
  },
  {
   "cell_type": "markdown",
   "metadata": {},
   "source": [
    "Разница между .from_numpy и .tensor:\n",
    "- .from_numpy создаёт тензор с теми же характеристиками, что и у массива numpy\n",
    "- .tensor преобразует массив в тензор с вещественным типом (float)\n",
    "- Важно: .from_numpy создаёт тензор, который изменяется, если изменится исходный массив numpy\n"
   ]
  },
  {
   "cell_type": "code",
   "execution_count": 4,
   "metadata": {},
   "outputs": [
    {
     "data": {
      "text/plain": [
       "tensor([[1, 2, 3],\n",
       "        [4, 5, 6]], dtype=torch.int32)"
      ]
     },
     "execution_count": 4,
     "metadata": {},
     "output_type": "execute_result"
    }
   ],
   "source": [
    "d_np = np.array([[1, 2, 3], [4, 5, 6]])\n",
    "t2 = torch.from_numpy(d_np)\n",
    "t2\n"
   ]
  },
  {
   "cell_type": "code",
   "execution_count": 5,
   "metadata": {},
   "outputs": [],
   "source": [
    "# Создание тензоров с определёнными значениями\n",
    "tz = torch.zeros(2, 3)  # Тензор, заполненный нулями\n",
    "t = torch.ones(2, 3)  # Тензор, заполненный единицами\n",
    "e = torch.eye(3, 3)  # Единичная матрица (диагональная матрица с единицами)\n",
    "t = torch.full((2, 4), 5)  # Тензор, заполненный значением 5\n",
    "t = torch.arange(-5, 0)  # Последовательность чисел от -5 до -1\n",
    "t = torch.linspace(1, 5, 3)  # Линейное распределение значений от 1 до 5 (3 точки)\n",
    "t = torch.rand(2, 3)  # Тензор с случайными числами от 0 до 1\n",
    "t = torch.FloatTensor(2, 4)  # Создание тензора с произвольными значениями"
   ]
  },
  {
   "cell_type": "code",
   "execution_count": 6,
   "metadata": {},
   "outputs": [
    {
     "data": {
      "text/plain": [
       "torch.Size([1, 8, 2, 2])"
      ]
     },
     "execution_count": 6,
     "metadata": {},
     "output_type": "execute_result"
    }
   ],
   "source": [
    "# Изменение формы тензора\n",
    "x_test = torch.arange(32).view(8, 2, 2)  # Создание 3D-тензора размером (8, 2, 2)\n",
    "x_test.size()  # Получение размера\n",
    "x_new = x_test.unsqueeze(0)  # Добавление новой оси\n",
    "x_new.size()  # Новый размер"
   ]
  },
  {
   "cell_type": "code",
   "execution_count": 7,
   "metadata": {},
   "outputs": [
    {
     "name": "stdout",
     "output_type": "stream",
     "text": [
      "tensor([[-1.2280,  0.0828, -0.4650],\n",
      "        [ 1.2782, -0.7822,  0.9246]])\n"
     ]
    },
    {
     "data": {
      "text/plain": [
       "(tensor(1), tensor(0))"
      ]
     },
     "execution_count": 7,
     "metadata": {},
     "output_type": "execute_result"
    }
   ],
   "source": [
    "# Поиск индекса максимального элемента в тензоре и его координаты\n",
    "t = torch.randn(2, 3)\n",
    "print(t)\n",
    "index = t.argmax()  # Индекс максимального элемента\n",
    "torch.unravel_index(index, t.shape)  # Преобразование индекса в координаты"
   ]
  },
  {
   "cell_type": "code",
   "execution_count": 8,
   "metadata": {},
   "outputs": [],
   "source": [
    "# Матрицы и операции с ними\n",
    "a = torch.arange(1, 10).view(3, 3)  # Матрица 3x3 с числами от 1 до 9\n",
    "b = torch.arange(10, 19).view(3, 3)  # Матрица 3x3 с числами от 10 до 18\n",
    "c = torch.matmul(a, b)  # Умножение матриц"
   ]
  },
  {
   "cell_type": "code",
   "execution_count": 9,
   "metadata": {},
   "outputs": [],
   "source": [
    "# Скалярное произведение (dot product)\n",
    "a = torch.arange(1, 10, dtype=torch.float32)\n",
    "b = torch.ones(9)\n",
    "c = torch.dot(a, b)  # Скалярное произведение векторов"
   ]
  },
  {
   "cell_type": "code",
   "execution_count": 10,
   "metadata": {},
   "outputs": [],
   "source": [
    "# Внешнее (outer) произведение векторов\n",
    "d = torch.outer(a, b)  \n",
    "\n",
    "# Умножение матрицы на вектор (matrix-vector multiplication)\n",
    "vec = torch.FloatTensor([1, 2, 3])\n",
    "matrix = torch.arange(4, 10, dtype=torch.float32).view(2, 3)\n",
    "r = torch.mv(matrix, vec)  "
   ]
  },
  {
   "cell_type": "markdown",
   "metadata": {},
   "source": []
  },
  {
   "cell_type": "code",
   "execution_count": null,
   "metadata": {},
   "outputs": [
    {
     "data": {
      "text/plain": [
       "True"
      ]
     },
     "execution_count": 11,
     "metadata": {},
     "output_type": "execute_result"
    }
   ],
   "source": [
    "# Проверка доступности CUDA (используется для работы с GPU)\n",
    "torch.cuda.is_available()\n"
   ]
  },
  {
   "cell_type": "markdown",
   "metadata": {},
   "source": [
    "bias - это вход равный всегд 1 и он нужен для смещения оси"
   ]
  },
  {
   "cell_type": "code",
   "execution_count": null,
   "metadata": {},
   "outputs": [],
   "source": []
  }
 ],
 "metadata": {
  "kernelspec": {
   "display_name": "Python 3",
   "language": "python",
   "name": "python3"
  },
  "language_info": {
   "codemirror_mode": {
    "name": "ipython",
    "version": 3
   },
   "file_extension": ".py",
   "mimetype": "text/x-python",
   "name": "python",
   "nbconvert_exporter": "python",
   "pygments_lexer": "ipython3",
   "version": "3.12.2"
  }
 },
 "nbformat": 4,
 "nbformat_minor": 2
}
